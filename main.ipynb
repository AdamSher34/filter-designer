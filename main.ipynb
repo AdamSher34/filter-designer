{
 "cells": [
  {
   "cell_type": "code",
   "execution_count": 9,
   "metadata": {},
   "outputs": [],
   "source": [
    "from filter import FILTER_FAMILY, LowpassSallenKey as LPF_SK"
   ]
  },
  {
   "cell_type": "code",
   "execution_count": 10,
   "metadata": {},
   "outputs": [],
   "source": [
    "lpf = LPF_SK(family = FILTER_FAMILY.CHEBYSHEV_1dB,\n",
    "             order = 4,\n",
    "             cutoff = 1000,\n",
    "             gain_dc = 10,\n",
    "             default_C = 10_000,\n",
    "             default_Rfb = 10_000)"
   ]
  },
  {
   "cell_type": "code",
   "execution_count": 11,
   "metadata": {},
   "outputs": [
    {
     "name": "stdout",
     "output_type": "stream",
     "text": [
      "chebyshev1dB 4 1000 10.0\n",
      "(528.5999999999999, 993.1999999999999)\n",
      "(1.7254, 2.7190000000000003, 2.1315768685200327)\n"
     ]
    }
   ],
   "source": [
    "print(lpf.family, lpf.order, lpf.cutoff, lpf.gain_dc)\n",
    "print(lpf.natural_freqs)\n",
    "print(lpf.gains)"
   ]
  },
  {
   "cell_type": "code",
   "execution_count": 12,
   "metadata": {},
   "outputs": [
    {
     "name": "stdout",
     "output_type": "stream",
     "text": [
      "(30108.76713808085, 16024.46064155209)\n",
      "(10000, 10000)\n",
      "((7254.0, 10000), (17190.0, 10000), (11315.768685200326, 10000))\n"
     ]
    }
   ],
   "source": [
    "print(lpf.R_filter)\n",
    "print(lpf.C_filter)\n",
    "print(lpf.R_feedback)"
   ]
  }
 ],
 "metadata": {
  "kernelspec": {
   "display_name": "Python 3",
   "language": "python",
   "name": "python3"
  },
  "language_info": {
   "codemirror_mode": {
    "name": "ipython",
    "version": 3
   },
   "file_extension": ".py",
   "mimetype": "text/x-python",
   "name": "python",
   "nbconvert_exporter": "python",
   "pygments_lexer": "ipython3",
   "version": "3.9.10"
  }
 },
 "nbformat": 4,
 "nbformat_minor": 2
}
