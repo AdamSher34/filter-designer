{
 "cells": [
  {
   "cell_type": "code",
   "execution_count": 57,
   "metadata": {},
   "outputs": [],
   "source": [
    "from filter import FILTER_FAMILY, LowpassSallenKey as LPF_SK\n",
    "from component import VALUE_SEQUENCE as SEQ"
   ]
  },
  {
   "cell_type": "code",
   "execution_count": 58,
   "metadata": {},
   "outputs": [],
   "source": [
    "lpf = LPF_SK(family = FILTER_FAMILY.CHEBYSHEV_0_5dB,\n",
    "             order = 5,\n",
    "             cutoff = 1000,\n",
    "             gain_dc = 10.72,\n",
    "             sequence_R = SEQ.E96,\n",
    "             sequence_C = SEQ.E96,\n",
    "             default_R = None,\n",
    "             default_C = 10_000,\n",
    "             default_Rfb = 10_000)"
   ]
  },
  {
   "cell_type": "code",
   "execution_count": 59,
   "metadata": {},
   "outputs": [
    {
     "name": "stdout",
     "output_type": "stream",
     "text": [
      "chebyshev0.5dB 5 1000 10.680899\n",
      "(686.0126857409283, 1007.3097664044008, 360.07905676899395)\n",
      "(2.15, 2.7800000000000002, 1.787)\n",
      "(1.176470588235294, 4.54545454545455)\n"
     ]
    }
   ],
   "source": [
    "print(lpf.family, lpf.order, lpf.cutoff, lpf.gain_dc)\n",
    "print(lpf.natural_freqs)\n",
    "print(lpf.gains)\n",
    "print(tuple([1 / (3 - k) for k in lpf.gains[:-1]]))"
   ]
  },
  {
   "cell_type": "code",
   "execution_count": 60,
   "metadata": {},
   "outputs": [
    {
     "name": "stdout",
     "output_type": "stream",
     "text": [
      "(23200.0, 15800.0, 44200.0)\n",
      "(10000.0, 10000.0, 10000.0)\n",
      "((11500.0, 10000.0), (17800.0, 10000.0), (7870.0, 10000.0))\n"
     ]
    }
   ],
   "source": [
    "print(lpf.R_filter)\n",
    "print(lpf.C_filter)\n",
    "print(lpf.R_feedback)"
   ]
  }
 ],
 "metadata": {
  "kernelspec": {
   "display_name": "Python 3",
   "language": "python",
   "name": "python3"
  },
  "language_info": {
   "codemirror_mode": {
    "name": "ipython",
    "version": 3
   },
   "file_extension": ".py",
   "mimetype": "text/x-python",
   "name": "python",
   "nbconvert_exporter": "python",
   "pygments_lexer": "ipython3",
   "version": "3.9.10"
  }
 },
 "nbformat": 4,
 "nbformat_minor": 2
}
